{
 "cells": [
  {
   "cell_type": "markdown",
   "metadata": {
    "slideshow": {
     "slide_type": "slide"
    }
   },
   "source": [
    "## 패키지 및 데이터 불러오기 "
   ]
  },
  {
   "cell_type": "code",
   "execution_count": 1,
   "metadata": {
    "slideshow": {
     "slide_type": "slide"
    }
   },
   "outputs": [],
   "source": [
    "import numpy as np   # numpy 패키지 불러오기 \n",
    "import pandas as pd  # pandas 패키지 불러오기 \n",
    "import matplotlib  # matplotlib 패키지 불러오기 \n",
    "import matplotlib.pyplot as plt # 그래프 시각화를 위한 패키지 불러오기\n",
    "import seaborn as sns  # seaborn 패키지 불러오기 \n",
    "import warnings        # warings(경고 메시지 없애주는)패키지 불러오기 \n",
    "from matplotlib import font_manager, rc  # matplotlib안 한글 깨짐 처리\n",
    "import platform   # 현재 사용하고 있는 시스템 유형을 알려주는 패키지 \n",
    "import plotly.express as px  # 더 나은 시각화를 위해 plotly 패키지 불러오기 \n",
    "import seaborn as sns\n",
    "%matplotlib inline\n",
    "\n",
    "# 운영체제에 맞게 폰트 설정\n",
    "if platform.system() == \"Windows\":\n",
    "    # 윈도우인 경우\n",
    "    font_name = font_manager.FontProperties(fname=\"c:/Windows/Fonts/malgun.ttf\").get_name()\n",
    "    rc('font', family=font_name)\n",
    "else:    \n",
    "# Mac 인 경우\n",
    "    rc('font', family='AppleGothic')\n",
    "\n",
    "matplotlib.rcParams['axes.unicode_minus'] = False  # 그래프에서 마이너스 기호 표시\n",
    "warnings.filterwarnings(action='ignore') # 경고 매세지 강제로 없애주는 설정"
   ]
  },
  {
   "cell_type": "code",
   "execution_count": 2,
   "metadata": {
    "slideshow": {
     "slide_type": "slide"
    }
   },
   "outputs": [],
   "source": [
    "data = pd.read_csv('./TV_GRPs_by_models.csv')"
   ]
  },
  {
   "cell_type": "code",
   "execution_count": 3,
   "metadata": {},
   "outputs": [],
   "source": [
    "# 광고주를 기준으로 광고횟수, GRP, 도달자수, 시청자수를 각각 더함.\n",
    "idx_ad = data[[\"Advertiser\",\"GRP\",\"광고횟수\",\"도달자수\",\"시청자수\"]].copy().groupby(\"Advertiser\").sum()"
   ]
  },
  {
   "cell_type": "code",
   "execution_count": 4,
   "metadata": {},
   "outputs": [],
   "source": [
    "# 평균 시청률 \n",
    "data['평균시청률'] = data['GRP'] / data['광고횟수']"
   ]
  },
  {
   "cell_type": "code",
   "execution_count": 5,
   "metadata": {
    "collapsed": true
   },
   "outputs": [
    {
     "data": {
      "text/html": [
       "<div>\n",
       "<style scoped>\n",
       "    .dataframe tbody tr th:only-of-type {\n",
       "        vertical-align: middle;\n",
       "    }\n",
       "\n",
       "    .dataframe tbody tr th {\n",
       "        vertical-align: top;\n",
       "    }\n",
       "\n",
       "    .dataframe thead th {\n",
       "        text-align: right;\n",
       "    }\n",
       "</style>\n",
       "<table border=\"1\" class=\"dataframe\">\n",
       "  <thead>\n",
       "    <tr style=\"text-align: right;\">\n",
       "      <th></th>\n",
       "      <th>Unnamed: 0</th>\n",
       "      <th>date</th>\n",
       "      <th>Year</th>\n",
       "      <th>Month</th>\n",
       "      <th>Advertiser</th>\n",
       "      <th>Product</th>\n",
       "      <th>Brand</th>\n",
       "      <th>연령대</th>\n",
       "      <th>광고횟수</th>\n",
       "      <th>시청자수</th>\n",
       "      <th>GRP</th>\n",
       "      <th>도달자수</th>\n",
       "      <th>도달율 1+</th>\n",
       "      <th>도달율 3+</th>\n",
       "      <th>도달율 5+</th>\n",
       "      <th>도달율 7+</th>\n",
       "      <th>도달율 9+</th>\n",
       "      <th>평균시청률</th>\n",
       "      <th>평균노출빈도</th>\n",
       "    </tr>\n",
       "  </thead>\n",
       "  <tbody>\n",
       "    <tr>\n",
       "      <th>6289</th>\n",
       "      <td>6289</td>\n",
       "      <td>2021-4</td>\n",
       "      <td>2021</td>\n",
       "      <td>4</td>\n",
       "      <td>혼다코리아</td>\n",
       "      <td>혼다CR-V</td>\n",
       "      <td>혼다</td>\n",
       "      <td>30대</td>\n",
       "      <td>498</td>\n",
       "      <td>767415</td>\n",
       "      <td>20.8</td>\n",
       "      <td>535073</td>\n",
       "      <td>14.5</td>\n",
       "      <td>1.5</td>\n",
       "      <td>0.2</td>\n",
       "      <td>0.1</td>\n",
       "      <td>0.1</td>\n",
       "      <td>0.041767</td>\n",
       "      <td>1.434483</td>\n",
       "    </tr>\n",
       "    <tr>\n",
       "      <th>6290</th>\n",
       "      <td>6290</td>\n",
       "      <td>2021-4</td>\n",
       "      <td>2021</td>\n",
       "      <td>4</td>\n",
       "      <td>혼다코리아</td>\n",
       "      <td>혼다CR-V</td>\n",
       "      <td>혼다</td>\n",
       "      <td>40대</td>\n",
       "      <td>498</td>\n",
       "      <td>1581617</td>\n",
       "      <td>38.4</td>\n",
       "      <td>890827</td>\n",
       "      <td>21.6</td>\n",
       "      <td>4.4</td>\n",
       "      <td>0.2</td>\n",
       "      <td>0.0</td>\n",
       "      <td>0.0</td>\n",
       "      <td>0.077108</td>\n",
       "      <td>1.777778</td>\n",
       "    </tr>\n",
       "    <tr>\n",
       "      <th>6291</th>\n",
       "      <td>6291</td>\n",
       "      <td>2021-4</td>\n",
       "      <td>2021</td>\n",
       "      <td>4</td>\n",
       "      <td>혼다코리아</td>\n",
       "      <td>혼다CR-V</td>\n",
       "      <td>혼다</td>\n",
       "      <td>50대</td>\n",
       "      <td>498</td>\n",
       "      <td>3023227</td>\n",
       "      <td>73.9</td>\n",
       "      <td>1370128</td>\n",
       "      <td>33.5</td>\n",
       "      <td>9.9</td>\n",
       "      <td>2.2</td>\n",
       "      <td>0.8</td>\n",
       "      <td>0.4</td>\n",
       "      <td>0.148394</td>\n",
       "      <td>2.205970</td>\n",
       "    </tr>\n",
       "    <tr>\n",
       "      <th>6292</th>\n",
       "      <td>6292</td>\n",
       "      <td>2021-4</td>\n",
       "      <td>2021</td>\n",
       "      <td>4</td>\n",
       "      <td>혼다코리아</td>\n",
       "      <td>혼다CR-V</td>\n",
       "      <td>혼다</td>\n",
       "      <td>60대</td>\n",
       "      <td>498</td>\n",
       "      <td>5377999</td>\n",
       "      <td>106.1</td>\n",
       "      <td>2194754</td>\n",
       "      <td>43.3</td>\n",
       "      <td>15.8</td>\n",
       "      <td>5.3</td>\n",
       "      <td>1.9</td>\n",
       "      <td>0.7</td>\n",
       "      <td>0.213052</td>\n",
       "      <td>2.450346</td>\n",
       "    </tr>\n",
       "    <tr>\n",
       "      <th>6293</th>\n",
       "      <td>6293</td>\n",
       "      <td>2021-4</td>\n",
       "      <td>2021</td>\n",
       "      <td>4</td>\n",
       "      <td>혼다코리아</td>\n",
       "      <td>혼다CR-V</td>\n",
       "      <td>혼다</td>\n",
       "      <td>개인</td>\n",
       "      <td>498</td>\n",
       "      <td>11827075</td>\n",
       "      <td>49.1</td>\n",
       "      <td>5573971</td>\n",
       "      <td>23.1</td>\n",
       "      <td>6.5</td>\n",
       "      <td>1.7</td>\n",
       "      <td>0.6</td>\n",
       "      <td>0.2</td>\n",
       "      <td>0.098594</td>\n",
       "      <td>2.125541</td>\n",
       "    </tr>\n",
       "  </tbody>\n",
       "</table>\n",
       "</div>"
      ],
      "text/plain": [
       "      Unnamed: 0    date  Year  Month Advertiser Product Brand  연령대  광고횟수  \\\n",
       "6289        6289  2021-4  2021      4      혼다코리아  혼다CR-V    혼다  30대   498   \n",
       "6290        6290  2021-4  2021      4      혼다코리아  혼다CR-V    혼다  40대   498   \n",
       "6291        6291  2021-4  2021      4      혼다코리아  혼다CR-V    혼다  50대   498   \n",
       "6292        6292  2021-4  2021      4      혼다코리아  혼다CR-V    혼다  60대   498   \n",
       "6293        6293  2021-4  2021      4      혼다코리아  혼다CR-V    혼다   개인   498   \n",
       "\n",
       "          시청자수    GRP     도달자수  도달율 1+  도달율 3+  도달율 5+  도달율 7+  도달율 9+  \\\n",
       "6289    767415   20.8   535073    14.5     1.5     0.2     0.1     0.1   \n",
       "6290   1581617   38.4   890827    21.6     4.4     0.2     0.0     0.0   \n",
       "6291   3023227   73.9  1370128    33.5     9.9     2.2     0.8     0.4   \n",
       "6292   5377999  106.1  2194754    43.3    15.8     5.3     1.9     0.7   \n",
       "6293  11827075   49.1  5573971    23.1     6.5     1.7     0.6     0.2   \n",
       "\n",
       "         평균시청률    평균노출빈도  \n",
       "6289  0.041767  1.434483  \n",
       "6290  0.077108  1.777778  \n",
       "6291  0.148394  2.205970  \n",
       "6292  0.213052  2.450346  \n",
       "6293  0.098594  2.125541  "
      ]
     },
     "execution_count": 5,
     "metadata": {},
     "output_type": "execute_result"
    }
   ],
   "source": [
    "# 평균 노출빈도 구하기 \n",
    "data['평균노출빈도'] = data['GRP'] / data['도달율 1+']\n",
    "data['평균노출빈도'].fillna(0, inplace=True)\n",
    "data['평균노출빈도'].replace(np.inf, 0, inplace=True)\n",
    "data.tail()"
   ]
  },
  {
   "cell_type": "code",
   "execution_count": 6,
   "metadata": {
    "collapsed": true
   },
   "outputs": [
    {
     "data": {
      "text/html": [
       "<div>\n",
       "<style scoped>\n",
       "    .dataframe tbody tr th:only-of-type {\n",
       "        vertical-align: middle;\n",
       "    }\n",
       "\n",
       "    .dataframe tbody tr th {\n",
       "        vertical-align: top;\n",
       "    }\n",
       "\n",
       "    .dataframe thead th {\n",
       "        text-align: right;\n",
       "    }\n",
       "</style>\n",
       "<table border=\"1\" class=\"dataframe\">\n",
       "  <thead>\n",
       "    <tr style=\"text-align: right;\">\n",
       "      <th></th>\n",
       "      <th>Advertiser</th>\n",
       "      <th>연령대</th>\n",
       "      <th>GRP</th>\n",
       "      <th>평균시청률</th>\n",
       "      <th>평균노출빈도</th>\n",
       "    </tr>\n",
       "  </thead>\n",
       "  <tbody>\n",
       "    <tr>\n",
       "      <th>127</th>\n",
       "      <td>혼다코리아</td>\n",
       "      <td>30대</td>\n",
       "      <td>28.196429</td>\n",
       "      <td>0.434702</td>\n",
       "      <td>1.525901</td>\n",
       "    </tr>\n",
       "    <tr>\n",
       "      <th>128</th>\n",
       "      <td>혼다코리아</td>\n",
       "      <td>40대</td>\n",
       "      <td>50.917857</td>\n",
       "      <td>0.773733</td>\n",
       "      <td>1.840891</td>\n",
       "    </tr>\n",
       "    <tr>\n",
       "      <th>129</th>\n",
       "      <td>혼다코리아</td>\n",
       "      <td>50대</td>\n",
       "      <td>58.366071</td>\n",
       "      <td>0.860406</td>\n",
       "      <td>1.964544</td>\n",
       "    </tr>\n",
       "    <tr>\n",
       "      <th>130</th>\n",
       "      <td>혼다코리아</td>\n",
       "      <td>60대</td>\n",
       "      <td>55.069643</td>\n",
       "      <td>0.664354</td>\n",
       "      <td>1.921900</td>\n",
       "    </tr>\n",
       "    <tr>\n",
       "      <th>131</th>\n",
       "      <td>혼다코리아</td>\n",
       "      <td>개인</td>\n",
       "      <td>38.912500</td>\n",
       "      <td>0.546491</td>\n",
       "      <td>1.834624</td>\n",
       "    </tr>\n",
       "  </tbody>\n",
       "</table>\n",
       "</div>"
      ],
      "text/plain": [
       "    Advertiser  연령대        GRP     평균시청률    평균노출빈도\n",
       "127      혼다코리아  30대  28.196429  0.434702  1.525901\n",
       "128      혼다코리아  40대  50.917857  0.773733  1.840891\n",
       "129      혼다코리아  50대  58.366071  0.860406  1.964544\n",
       "130      혼다코리아  60대  55.069643  0.664354  1.921900\n",
       "131      혼다코리아   개인  38.912500  0.546491  1.834624"
      ]
     },
     "execution_count": 6,
     "metadata": {},
     "output_type": "execute_result"
    }
   ],
   "source": [
    "# 광고주와 연령대를 기준으로 그룹화 (평균 기준)\n",
    "ad_age = data.groupby([\"Advertiser\", \"연령대\"]).agg('mean').round(6)[['GRP', '평균시청률', '평균노출빈도']].reset_index()\n",
    "ad_age.tail()"
   ]
  },
  {
   "cell_type": "code",
   "execution_count": 7,
   "metadata": {
    "collapsed": true
   },
   "outputs": [
    {
     "data": {
      "text/html": [
       "<div>\n",
       "<style scoped>\n",
       "    .dataframe tbody tr th:only-of-type {\n",
       "        vertical-align: middle;\n",
       "    }\n",
       "\n",
       "    .dataframe tbody tr th {\n",
       "        vertical-align: top;\n",
       "    }\n",
       "\n",
       "    .dataframe thead th {\n",
       "        text-align: right;\n",
       "    }\n",
       "</style>\n",
       "<table border=\"1\" class=\"dataframe\">\n",
       "  <thead>\n",
       "    <tr style=\"text-align: right;\">\n",
       "      <th></th>\n",
       "      <th>Advertiser</th>\n",
       "      <th>Product</th>\n",
       "      <th>Year</th>\n",
       "      <th>연령대</th>\n",
       "      <th>광고횟수</th>\n",
       "      <th>GRP</th>\n",
       "      <th>도달자수</th>\n",
       "      <th>시청자수</th>\n",
       "    </tr>\n",
       "  </thead>\n",
       "  <tbody>\n",
       "    <tr>\n",
       "      <th>0</th>\n",
       "      <td>BMW코리아</td>\n",
       "      <td>BMW3시리즈</td>\n",
       "      <td>2019</td>\n",
       "      <td>20대</td>\n",
       "      <td>814.4</td>\n",
       "      <td>31.56</td>\n",
       "      <td>380731</td>\n",
       "      <td>1069815</td>\n",
       "    </tr>\n",
       "    <tr>\n",
       "      <th>1</th>\n",
       "      <td>BMW코리아</td>\n",
       "      <td>BMW3시리즈</td>\n",
       "      <td>2019</td>\n",
       "      <td>30대</td>\n",
       "      <td>814.4</td>\n",
       "      <td>61.32</td>\n",
       "      <td>785572</td>\n",
       "      <td>2328816</td>\n",
       "    </tr>\n",
       "    <tr>\n",
       "      <th>2</th>\n",
       "      <td>BMW코리아</td>\n",
       "      <td>BMW3시리즈</td>\n",
       "      <td>2019</td>\n",
       "      <td>40대</td>\n",
       "      <td>814.4</td>\n",
       "      <td>110.98</td>\n",
       "      <td>1206770</td>\n",
       "      <td>4713253</td>\n",
       "    </tr>\n",
       "    <tr>\n",
       "      <th>3</th>\n",
       "      <td>BMW코리아</td>\n",
       "      <td>BMW3시리즈</td>\n",
       "      <td>2019</td>\n",
       "      <td>50대</td>\n",
       "      <td>814.4</td>\n",
       "      <td>107.38</td>\n",
       "      <td>1192444</td>\n",
       "      <td>4260110</td>\n",
       "    </tr>\n",
       "    <tr>\n",
       "      <th>4</th>\n",
       "      <td>BMW코리아</td>\n",
       "      <td>BMW3시리즈</td>\n",
       "      <td>2019</td>\n",
       "      <td>60대</td>\n",
       "      <td>814.4</td>\n",
       "      <td>79.62</td>\n",
       "      <td>1070082</td>\n",
       "      <td>3606191</td>\n",
       "    </tr>\n",
       "    <tr>\n",
       "      <th>...</th>\n",
       "      <td>...</td>\n",
       "      <td>...</td>\n",
       "      <td>...</td>\n",
       "      <td>...</td>\n",
       "      <td>...</td>\n",
       "      <td>...</td>\n",
       "      <td>...</td>\n",
       "      <td>...</td>\n",
       "    </tr>\n",
       "    <tr>\n",
       "      <th>1806</th>\n",
       "      <td>혼다코리아</td>\n",
       "      <td>혼다파일럿</td>\n",
       "      <td>2019</td>\n",
       "      <td>20대</td>\n",
       "      <td>251.5</td>\n",
       "      <td>33.40</td>\n",
       "      <td>522724</td>\n",
       "      <td>1131385</td>\n",
       "    </tr>\n",
       "    <tr>\n",
       "      <th>1807</th>\n",
       "      <td>혼다코리아</td>\n",
       "      <td>혼다파일럿</td>\n",
       "      <td>2019</td>\n",
       "      <td>30대</td>\n",
       "      <td>251.5</td>\n",
       "      <td>64.40</td>\n",
       "      <td>1042328</td>\n",
       "      <td>2445939</td>\n",
       "    </tr>\n",
       "    <tr>\n",
       "      <th>1808</th>\n",
       "      <td>혼다코리아</td>\n",
       "      <td>혼다파일럿</td>\n",
       "      <td>2019</td>\n",
       "      <td>40대</td>\n",
       "      <td>251.5</td>\n",
       "      <td>119.40</td>\n",
       "      <td>1663696</td>\n",
       "      <td>5071028</td>\n",
       "    </tr>\n",
       "    <tr>\n",
       "      <th>1809</th>\n",
       "      <td>혼다코리아</td>\n",
       "      <td>혼다파일럿</td>\n",
       "      <td>2019</td>\n",
       "      <td>50대</td>\n",
       "      <td>251.5</td>\n",
       "      <td>108.70</td>\n",
       "      <td>1535110</td>\n",
       "      <td>4310834</td>\n",
       "    </tr>\n",
       "    <tr>\n",
       "      <th>1810</th>\n",
       "      <td>혼다코리아</td>\n",
       "      <td>혼다파일럿</td>\n",
       "      <td>2019</td>\n",
       "      <td>60대</td>\n",
       "      <td>251.5</td>\n",
       "      <td>74.75</td>\n",
       "      <td>1371653</td>\n",
       "      <td>3387103</td>\n",
       "    </tr>\n",
       "  </tbody>\n",
       "</table>\n",
       "<p>1510 rows × 8 columns</p>\n",
       "</div>"
      ],
      "text/plain": [
       "     Advertiser  Product  Year  연령대   광고횟수     GRP     도달자수     시청자수\n",
       "0        BMW코리아  BMW3시리즈  2019  20대  814.4   31.56   380731  1069815\n",
       "1        BMW코리아  BMW3시리즈  2019  30대  814.4   61.32   785572  2328816\n",
       "2        BMW코리아  BMW3시리즈  2019  40대  814.4  110.98  1206770  4713253\n",
       "3        BMW코리아  BMW3시리즈  2019  50대  814.4  107.38  1192444  4260110\n",
       "4        BMW코리아  BMW3시리즈  2019  60대  814.4   79.62  1070082  3606191\n",
       "...         ...      ...   ...  ...    ...     ...      ...      ...\n",
       "1806      혼다코리아    혼다파일럿  2019  20대  251.5   33.40   522724  1131385\n",
       "1807      혼다코리아    혼다파일럿  2019  30대  251.5   64.40  1042328  2445939\n",
       "1808      혼다코리아    혼다파일럿  2019  40대  251.5  119.40  1663696  5071028\n",
       "1809      혼다코리아    혼다파일럿  2019  50대  251.5  108.70  1535110  4310834\n",
       "1810      혼다코리아    혼다파일럿  2019  60대  251.5   74.75  1371653  3387103\n",
       "\n",
       "[1510 rows x 8 columns]"
      ]
     },
     "execution_count": 7,
     "metadata": {},
     "output_type": "execute_result"
    }
   ],
   "source": [
    "# 광고주, Product, 연도, 연령대별 광고횟수, GRP, 도달지수, 시청자수\n",
    "apya = data[[\"Advertiser\",\"Product\",\"Year\",\"연령대\", \"광고횟수\",\"GRP\",\"도달자수\",\"시청자수\"]].copy().groupby([\"Advertiser\",\"Product\",\"Year\",\"연령대\"]).mean().reset_index()\n",
    "apya = apya.astype({\"도달자수\":int, \"시청자수\":int})\n",
    "apya.drop(apya[apya[\"연령대\"]==\"개인\"].index)"
   ]
  },
  {
   "cell_type": "code",
   "execution_count": 8,
   "metadata": {},
   "outputs": [],
   "source": [
    "from Plot import Plot"
   ]
  },
  {
   "cell_type": "code",
   "execution_count": 20,
   "metadata": {},
   "outputs": [],
   "source": [
    "plot = Plot()"
   ]
  },
  {
   "cell_type": "code",
   "execution_count": 12,
   "metadata": {},
   "outputs": [
    {
     "data": {
      "image/png": "[encoded data removed]",
      "text/plain": [
       "<Figure size 432x288 with 1 Axes>"
      ]
     },
     "metadata": {
      "needs_background": "light"
     },
     "output_type": "display_data"
    }
   ],
   "source": [
    "plot.boxplot(ad_age, '연령대', 'GRP') # inplacesubplot을 설정 X"
   ]
  },
  {
   "cell_type": "code",
   "execution_count": 13,
   "metadata": {},
   "outputs": [],
   "source": [
    "plot.boxplot(ad_age, '연령대', 'GRP', inplacesubplot=131) # inplacesubplot을 설정 O"
   ]
  },
  {
   "cell_type": "code",
   "execution_count": 14,
   "metadata": {},
   "outputs": [],
   "source": [
    "plot.boxplot(ad_age, '연령대', '평균노출빈도', inplacesubplot=132)"
   ]
  },
  {
   "cell_type": "code",
   "execution_count": 15,
   "metadata": {},
   "outputs": [],
   "source": [
    "plot.boxplot(ad_age, '연령대', '평균시청률', inplacesubplot=133)"
   ]
  },
  {
   "cell_type": "code",
   "execution_count": 16,
   "metadata": {},
   "outputs": [
    {
     "data": {
      "image/png": "[encoded data removed]",
      "text/plain": [
       "<Figure size 1440x432 with 3 Axes>"
      ]
     },
     "metadata": {
      "needs_background": "light"
     },
     "output_type": "display_data"
    }
   ],
   "source": [
    "plot.showplot() # inplacesubplot으로 모아서 한번에 출력 가능"
   ]
  },
  {
   "cell_type": "code",
   "execution_count": 17,
   "metadata": {},
   "outputs": [
    {
     "data": {
      "image/png": "[encoded data removed]",
      "text/plain": [
       "<Figure size 1080x504 with 1 Axes>"
      ]
     },
     "metadata": {
      "needs_background": "light"
     },
     "output_type": "display_data"
    }
   ],
   "source": [
    "plot.countplot(data, \"년도\", \"Year\") # inplacesubplot 설정X"
   ]
  },
  {
   "cell_type": "code",
   "execution_count": 22,
   "metadata": {},
   "outputs": [],
   "source": [
    "plot.countplot(data, \"년도\", \"Year\", inplacesubplot=221)"
   ]
  },
  {
   "cell_type": "code",
   "execution_count": 23,
   "metadata": {},
   "outputs": [
    {
     "data": {
      "image/png": "[encoded data removed]",
      "text/plain": [
       "<Figure size 1440x432 with 1 Axes>"
      ]
     },
     "metadata": {
      "needs_background": "light"
     },
     "output_type": "display_data"
    },
    {
     "data": {
      "image/png": "[encoded data removed]",
      "text/plain": [
       "<Figure size 1080x504 with 1 Axes>"
      ]
     },
     "metadata": {
      "needs_background": "light"
     },
     "output_type": "display_data"
    }
   ],
   "source": [
    "plot.showplot() # 카운터 플롯은 오류가 있음.... 이유는 모르겠어요 ㅜㅜㅜㅜㅜㅜㅜ"
   ]
  },
  {
   "cell_type": "code",
   "execution_count": null,
   "metadata": {},
   "outputs": [],
   "source": [
    "# 스케터플롯은 px 라서 어떻게 추가할지 고민중입니다."
   ]
  },
  {
   "cell_type": "code",
   "execution_count": null,
   "metadata": {},
   "outputs": [],
   "source": []
  },
  {
   "cell_type": "code",
   "execution_count": null,
   "metadata": {},
   "outputs": [],
   "source": []
  },
  {
   "cell_type": "code",
   "execution_count": null,
   "metadata": {},
   "outputs": [],
   "source": []
  },
  {
   "cell_type": "code",
   "execution_count": null,
   "metadata": {},
   "outputs": [],
   "source": []
  }
 ],
 "metadata": {
  "kernelspec": {
   "display_name": "Python 3",
   "language": "python",
   "name": "python3"
  },
  "language_info": {
   "codemirror_mode": {
    "name": "ipython",
    "version": 3
   },
   "file_extension": ".py",
   "mimetype": "text/x-python",
   "name": "python",
   "nbconvert_exporter": "python",
   "pygments_lexer": "ipython3",
   "version": "3.8.6"
  },
  "toc": {
   "base_numbering": 1,
   "nav_menu": {},
   "number_sections": true,
   "sideBar": true,
   "skip_h1_title": false,
   "title_cell": "Table of Contents",
   "title_sidebar": "Contents",
   "toc_cell": false,
   "toc_position": {},
   "toc_section_display": true,
   "toc_window_display": false
  }
 },
 "nbformat": 4,
 "nbformat_minor": 4
}
