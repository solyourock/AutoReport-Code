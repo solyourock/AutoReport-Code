{
 "cells": [
  {
   "cell_type": "code",
   "execution_count": 5,
   "metadata": {},
   "outputs": [],
   "source": [
    "# module load\n",
    "import os\n",
    "import sys\n",
    "import urllib.request\n",
    "import json\n",
    "import numpy as np\n",
    "import pandas as pd\n",
    "import copy\n",
    "import seaborn as sns\n",
    "import matplotlib.pyplot as plt\n",
    "from matplotlib import font_manager, rc\n",
    "\n",
    "# Font load\n",
    "'''\n",
    "from Font import Fontmanager\n",
    "path = Fontmanager()\n",
    "'''\n",
    "\n",
    "font_name = font_manager.FontProperties(fname=\"/System/Library/Fonts/Supplemental/AppleMyungjo.ttf\").get_name()\n",
    "rc('font', family=font_name)\n",
    "\n",
    "# data load\n",
    "dataset = pd.read_csv('/Users/sol/git/AutoReport/datas.csv', encoding = \"utf-8-sig\")\n",
    "\n",
    "# preprocessing\n",
    "dataset = dataset.reset_index(drop=True)\n",
    "dataset = dataset[dataset[\"values\"].isna() == False]\n",
    "dataset = dataset.drop(['Unnamed: 0'],1)\n",
    "\n",
    "search_word = pd.DataFrame(dataset,columns=[\"brand_ad\", \"values\"])"
   ]
  },
  {
   "cell_type": "code",
   "execution_count": 6,
   "metadata": {},
   "outputs": [],
   "source": [
    "search_dict = []\n",
    "list_key = []\n",
    "list_value = []\n",
    "\n",
    "for index in range(len(search_word)) : \n",
    "    value_name = list(search_word[\"brand_ad\"])[index] #search_word의 Keys 칼럼을 리스트화 한 후, 순서대로 가져옴\n",
    "    value_words = (list(search_word[\"values\"])[index]).split(\",\") #search_word의 values 칼럼을 리스트화 한 후, 순서대로 가져옴\n",
    "    #dict_value를 split(\",\")하는 이유는, 개별 키워드가 띄어쓰기로 구분된 리스트 형태여야 하기 때문 \n",
    "    #ex. \"혼다, CRV\"(X), \"혼다\", \"CRV\" (O)\n",
    "    search_dict.append({\"groupName\" : value_name, \"keywords\" : value_words}) \n",
    "    #search_dict 리스트에 딕셔너리 타입으로 추가시킴 \n",
    "    list_key.append(value_name)\n",
    "    list_value.append(value_words)"
   ]
  },
  {
   "cell_type": "code",
   "execution_count": 4,
   "metadata": {
    "collapsed": true
   },
   "outputs": [
    {
     "ename": "NameError",
     "evalue": "name 'search_dict' is not defined",
     "output_type": "error",
     "traceback": [
      "\u001b[0;31m---------------------------------------------------------------------------\u001b[0m",
      "\u001b[0;31mNameError\u001b[0m                                 Traceback (most recent call last)",
      "\u001b[0;32m<ipython-input-4-46a642c8d983>\u001b[0m in \u001b[0;36m<module>\u001b[0;34m\u001b[0m\n\u001b[0;32m----> 1\u001b[0;31m \u001b[0mstandard\u001b[0m \u001b[0;34m=\u001b[0m \u001b[0mcopy\u001b[0m\u001b[0;34m.\u001b[0m\u001b[0mdeepcopy\u001b[0m\u001b[0;34m(\u001b[0m\u001b[0msearch_dict\u001b[0m\u001b[0;34m[\u001b[0m\u001b[0;36m0\u001b[0m\u001b[0;34m]\u001b[0m\u001b[0;34m)\u001b[0m\u001b[0;34m\u001b[0m\u001b[0;34m\u001b[0m\u001b[0m\n\u001b[0m",
      "\u001b[0;31mNameError\u001b[0m: name 'search_dict' is not defined"
     ]
    }
   ],
   "source": [
    "standard = copy.deepcopy(search_dict[0])"
   ]
  },
  {
   "cell_type": "code",
   "execution_count": null,
   "metadata": {},
   "outputs": [],
   "source": [
    "client_id = \"\", \n",
    "client_secret = \" \",\n",
    "\n",
    "def get_trend(body):\n",
    "    import urllib.request\n",
    "    url = \"https://openapi.naver.com/v1/datalab/search\"\n",
    "    client_id = client_id\n",
    "    client_secret = client_secret\n",
    "    request = urllib.request.Request(url)\n",
    "    request.add_header(\"X-Naver-Client-Id\", client_id)\n",
    "    request.add_header(\"X-Naver-Client-Secret\", client_secret)\n",
    "    request.add_header(\"Content-Type\",\"application/json\")\n",
    "    response = urllib.request.urlopen(request, data=body.encode(\"utf-8\"))\n",
    "\n",
    "    return json.loads(response.read().decode('utf-8'))\n"
   ]
  },
  {
   "cell_type": "code",
   "execution_count": null,
   "metadata": {},
   "outputs": [],
   "source": [
    "crop_dict = search_dict[1:]\n",
    "split_list = [crop_dict[i:i+4] for i in range(0, len(crop_dict), 4)]"
   ]
  },
  {
   "cell_type": "code",
   "execution_count": null,
   "metadata": {
    "scrolled": true
   },
   "outputs": [],
   "source": [
    "def get_search(split_list):    \n",
    "    \n",
    "    search_result = []\n",
    "\n",
    "    for i in range(len(split_list)) : \n",
    "        insert_words = []\n",
    "        insert_words = copy.deepcopy(split_list[i])\n",
    "        insert_words.append(standard)\n",
    "\n",
    "        body = {\n",
    "            \"startDate\":\"2016-01-01\",\n",
    "            \"endDate\":\"2021-05-05\",\n",
    "            \"timeUnit\":\"date\",\n",
    "            \"keywordGroups\": insert_words\n",
    "            }\n",
    "\n",
    "        body = json.dumps(body, ensure_ascii=False)\n",
    "\n",
    "        search_result.append(get_trend(body))\n",
    "#     print(body)"
   ]
  },
  {
   "cell_type": "code",
   "execution_count": null,
   "metadata": {},
   "outputs": [],
   "source": [
    "period_list = [each[\"period\"] for each in search_result[0][\"results\"][0][\"data\"]]\n",
    "ratio_list = [each[\"ratio\"] for each in search_result[0][\"results\"][0][\"data\"]]"
   ]
  },
  {
   "cell_type": "code",
   "execution_count": null,
   "metadata": {},
   "outputs": [],
   "source": [
    "result[\"date\"] = pd.DataFrame(period_list)"
   ]
  },
  {
   "cell_type": "code",
   "execution_count": null,
   "metadata": {},
   "outputs": [],
   "source": [
    "probio = search_result[6][\"results\"][2][\"title\"]\n",
    "probio_ratio = [each[\"ratio\"] for each in search_result[6][\"results\"][2][\"data\"]]\n",
    "df_result[probio] = probio_ratio"
   ]
  },
  {
   "cell_type": "code",
   "execution_count": null,
   "metadata": {},
   "outputs": [],
   "source": [
    "for i in range(len(search_result)) :\n",
    "    for order in range((len(search_result[i][\"results\"]))-1)  :\n",
    "       \n",
    "        dummy = pd.DataFrame()\n",
    "        \n",
    "        date_list = [each[\"period\"] for each in search_result[i][\"results\"][order][\"data\"]]\n",
    "        ratio_list = [each[\"ratio\"] for each in search_result[i][\"results\"][order][\"data\"]]\n",
    "        column_name = search_result[i][\"results\"][order][\"title\"]\n",
    "        \n",
    "        dummy_df[\"date\"] = date_list \n",
    "        dummy_df[column_name] = ratio_list\n",
    "        \n",
    "        result_df = pd.merge(result, dummy_df, how=\"outer\", left_on=\"date\", right_on=\"date\" )\n",
    "       \n",
    "        #print(column_name)"
   ]
  },
  {
   "cell_type": "code",
   "execution_count": null,
   "metadata": {},
   "outputs": [],
   "source": [
    "def scaling (result_df):\n",
    "    realvalue = result_df.iloc[:,1:]\n",
    "    scaler = 4169.8\n",
    "    realvalue = round(realvalue*scaler, 1)\n",
    "    realvalue.insert(0, \"date\", result_df[\"date\"])"
   ]
  },
  {
   "cell_type": "code",
   "execution_count": null,
   "metadata": {},
   "outputs": [],
   "source": [
    "def save(file):\n",
    "    file.to_csv(r'file.csv', encoding='utf-8-sig', index=False)    "
   ]
  }
 ],
 "metadata": {
  "kernelspec": {
   "display_name": "Python 3",
   "language": "python",
   "name": "python3"
  },
  "language_info": {
   "codemirror_mode": {
    "name": "ipython",
    "version": 3
   },
   "file_extension": ".py",
   "mimetype": "text/x-python",
   "name": "python",
   "nbconvert_exporter": "python",
   "pygments_lexer": "ipython3",
   "version": "3.8.6"
  }
 },
 "nbformat": 4,
 "nbformat_minor": 4
}
